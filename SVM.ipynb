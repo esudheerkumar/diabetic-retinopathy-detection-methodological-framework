{
  "nbformat": 4,
  "nbformat_minor": 0,
  "metadata": {
    "colab": {
      "name": "SVM.ipynb",
      "provenance": []
    },
    "kernelspec": {
      "name": "python3",
      "display_name": "Python 3"
    }
  },
  "cells": [
    {
      "cell_type": "code",
      "metadata": {
        "id": "d9-f6pua_q69",
        "outputId": "b1f73e98-2c6c-4dba-dde3-d3ca0b83dc6d",
        "colab": {
          "base_uri": "https://localhost:8080/",
          "height": 34
        }
      },
      "source": [
        "cd /content/drive/My Drive/classification"
      ],
      "execution_count": 1,
      "outputs": [
        {
          "output_type": "stream",
          "text": [
            "/content/drive/My Drive/classification\n"
          ],
          "name": "stdout"
        }
      ]
    },
    {
      "cell_type": "code",
      "metadata": {
        "id": "Ov3atJvx_tIQ",
        "outputId": "22029666-f8d9-4351-d079-e653463a8f7d",
        "colab": {
          "base_uri": "https://localhost:8080/",
          "height": 218
        }
      },
      "source": [
        "from sklearn.gaussian_process import GaussianProcessClassifier\n",
        "from sklearn.model_selection import train_test_split\n",
        "from sklearn.linear_model import LogisticRegression\n",
        "from sklearn.metrics import classification_report\n",
        "from sklearn.gaussian_process.kernels import RBF\n",
        "from sklearn.metrics import confusion_matrix\n",
        "from sklearn.metrics import accuracy_score\n",
        "from sklearn.decomposition import PCA\n",
        "import matplotlib.pyplot as plt\n",
        "from pandas import get_dummies\n",
        "import plotly.graph_objs as go\n",
        "from sklearn import datasets\n",
        "from sklearn.svm import SVC\n",
        "import seaborn as sns\n",
        "import pandas as pd\n",
        "import numpy as np\n",
        "import matplotlib\n",
        "import warnings\n",
        "import sklearn\n",
        "import scipy\n",
        "import numpy\n",
        "import json\n",
        "import sys\n",
        "import csv\n",
        "import os\n",
        "\n",
        "print('matplotlib: {}'.format(matplotlib.__version__))\n",
        "print('sklearn: {}'.format(sklearn.__version__))\n",
        "print('scipy: {}'.format(scipy.__version__))\n",
        "print('seaborn: {}'.format(sns.__version__))\n",
        "print('pandas: {}'.format(pd.__version__))\n",
        "print('numpy: {}'.format(np.__version__))\n",
        "print('Python: {}'.format(sys.version))\n"
      ],
      "execution_count": 2,
      "outputs": [
        {
          "output_type": "stream",
          "text": [
            "matplotlib: 3.2.2\n",
            "sklearn: 0.22.2.post1\n",
            "scipy: 1.4.1\n",
            "seaborn: 0.10.1\n",
            "pandas: 1.0.5\n",
            "numpy: 1.18.5\n",
            "Python: 3.6.9 (default, Jul 17 2020, 12:50:27) \n",
            "[GCC 8.4.0]\n"
          ],
          "name": "stdout"
        },
        {
          "output_type": "stream",
          "text": [
            "/usr/local/lib/python3.6/dist-packages/statsmodels/tools/_testing.py:19: FutureWarning:\n",
            "\n",
            "pandas.util.testing is deprecated. Use the functions in the public API at pandas.testing instead.\n",
            "\n"
          ],
          "name": "stderr"
        }
      ]
    },
    {
      "cell_type": "code",
      "metadata": {
        "id": "L9dgRu8y_tWW"
      },
      "source": [
        "sns.set(style='white', context='notebook', palette='deep')\n",
        "warnings.filterwarnings('ignore')\n",
        "sns.set_style('white')\n",
        "%matplotlib inline"
      ],
      "execution_count": 3,
      "outputs": []
    },
    {
      "cell_type": "code",
      "metadata": {
        "id": "AChy19oA_tkb",
        "outputId": "9f83e9d1-9062-4989-81cd-7469b73567cb",
        "colab": {
          "base_uri": "https://localhost:8080/",
          "height": 604
        }
      },
      "source": [
        "# Support Vector Machine\n",
        "# Importing the libraries\n",
        "\n",
        "import numpy as np\n",
        "import matplotlib.pyplot as plt\n",
        "import pandas as pd\n",
        "\n",
        "# Importing the datasets\n",
        "\n",
        "datasets = pd.read_excel('feature_extraction.xls')\n",
        "X = datasets.iloc[:, [0,14]].values\n",
        "Y = datasets.iloc[:, 15].values\n",
        "\n",
        "\n",
        "# Splitting the dataset into the Training set and Test set\n",
        "\n",
        "from sklearn.model_selection import train_test_split\n",
        "X_Train, X_Test, Y_Train, Y_Test = train_test_split(X, Y, test_size = 0.7, random_state = 0)\n",
        "\n",
        "# Feature Scaling\n",
        "\n",
        "from sklearn.preprocessing import StandardScaler\n",
        "sc_X = StandardScaler()\n",
        "X_Train = sc_X.fit_transform(X_Train)\n",
        "X_Test = sc_X.transform(X_Test)\n",
        "\n",
        "# Fitting the classifier into the Training set\n",
        "\n",
        "from sklearn.svm import SVC\n",
        "classifier = SVC(kernel = 'linear',  probability=True)\n",
        "classifier.fit(X_Train, Y_Train)\n",
        "\n",
        "# Predicting the test set results\n",
        "\n",
        "Y_Pred = classifier.predict(X_Test)\n",
        "\n",
        "# Making the Confusion Matrix \n",
        "\n",
        "from sklearn.metrics import confusion_matrix\n",
        "cm = confusion_matrix(Y_Test, Y_Pred)\n",
        "\n",
        "# Visualising the Training set results\n",
        "\n",
        "from matplotlib.colors import ListedColormap\n",
        "X_Set, Y_Set = X_Train, Y_Train\n",
        "X1, X2 = np.meshgrid(np.arange(start = X_Set[:, 0].min() - 1, stop = X_Set[:, 0].max() + 1, step = 0.01),\n",
        "                     np.arange(start = X_Set[:, 1].min() - 1, stop = X_Set[:, 1].max() + 1, step = 0.01))\n",
        "plt.contourf(X1, X2, classifier.predict(np.array([X1.ravel(), X2.ravel()]).T).reshape(X1.shape),\n",
        "             alpha = 0.75, cmap = ListedColormap(('red', 'green')))\n",
        "plt.xlim(X1.min(), X1.max())\n",
        "plt.ylim(X2.min(), X2.max())\n",
        "#for i, j in enumerate(np.unique(Y_Set)):\n",
        " #   plt.scatter(X_Set[Y_Set == j, 0], X_Set[Y_Set == j, 1],\n",
        "  #              c = ListedColormap(('red', 'green'))(i), label = j)\n",
        "#plt.title('Support Vector Machine (Training set)')\n",
        "#plt.xlabel('white_pixels')\n",
        "#plt.ylabel('results')\n",
        "#plt.legend()\n",
        "#plt.show()\n",
        "\n",
        "# Visualising the Test set results\n",
        "\n",
        "from matplotlib.colors import ListedColormap\n",
        "X_Set, Y_Set = X_Test, Y_Test\n",
        "X1, X2 = np.meshgrid(np.arange(start = X_Set[:, 0].min() - 1, stop = X_Set[:, 0].max() + 1, step = 0.01),\n",
        "                     np.arange(start = X_Set[:, 1].min() - 1, stop = X_Set[:, 1].max() + 1, step = 0.01))\n",
        "plt.contourf(X1, X2, classifier.predict(np.array([X1.ravel(), X2.ravel()]).T).reshape(X1.shape),\n",
        "             alpha = 0.75, cmap = ListedColormap(('red', 'green')))\n",
        "plt.xlim(X1.min(), X1.max())\n",
        "plt.ylim(X2.min(), X2.max())\n",
        "#for i, j in enumerate(np.unique(Y_Set)):\n",
        "#    plt.scatter(X_Set[Y_Set == j, 0], X_Set[Y_Set == j, 1],\n",
        "#                c = ListedColormap(('red', 'green'))(i), label = j)\n",
        "#plt.title('Support Vector Machine (Test set)')\n",
        "#plt.xlabel('white_pixes')\n",
        "#plt.ylabel('results')\n",
        "#plt.legend()\n",
        "#plt.show()\n",
        "\n",
        "\n",
        "\n",
        "from sklearn.metrics import confusion_matrix\n",
        "\n",
        "cm = confusion_matrix(Y_Test, Y_Pred)\n",
        "\n",
        "print('Confusion matrix\\n\\n', cm)\n",
        "\n",
        "# visualize confusion matrix with seaborn heatmap\n",
        "\n",
        "cm_matrix = pd.DataFrame(data=cm, columns=['Predicted 0','Predicted 1'], \n",
        "                                 index=['Actual 0', 'Actual 1'])\n",
        "\n",
        "sns.heatmap(cm_matrix, annot=True, fmt='d', cmap='YlGnBu')\n",
        "\n",
        "from sklearn.metrics import classification_report\n",
        "\n",
        "print(classification_report(Y_Test, Y_Pred))\n",
        "\n",
        "TP = cm[1,1]\n",
        "TN = cm[0,0]\n",
        "FP = cm[0,1]\n",
        "FN = cm[1,0]\n",
        "\n",
        "\n",
        "# print classification accuracy\n",
        "classification_accuracy = (TP + TN) / float(TP + TN + FP + FN)\n",
        "print('Classification accuracy : {0:0.4f}'.format(classification_accuracy))\n",
        "\n",
        "# print classification error\n",
        "classification_error = (FP + FN) / float(TP + TN + FP + FN)\n",
        "print('Classification error : {0:0.4f}'.format(classification_error))\n",
        "\n",
        "# print precision score\n",
        "precision = TP / float(TP + FP)\n",
        "print('Precision : {0:0.4f}'.format(precision))\n",
        "\n",
        "true_positive_rate = TP / float(TP + FN)\n",
        "print('True Positive Rate : {0:0.4f}'.format(true_positive_rate))\n",
        "\n",
        "false_positive_rate = FP / float(FP + TN)\n",
        "print('False Positive Rate : {0:0.4f}'.format(false_positive_rate))\n",
        "\n",
        "specificity = TN / (TN + FP)\n",
        "print('Specificity : {0:0.4f}'.format(specificity))\n",
        "\n",
        "recall = TP / float(TP + FN)\n",
        "print('Recall or Sensitivity : {0:0.4f}'.format(recall))"
      ],
      "execution_count": 6,
      "outputs": [
        {
          "output_type": "stream",
          "text": [
            "Confusion matrix\n",
            "\n",
            " [[23  1]\n",
            " [ 0  4]]\n",
            "              precision    recall  f1-score   support\n",
            "\n",
            "           0       1.00      0.96      0.98        24\n",
            "           1       0.80      1.00      0.89         4\n",
            "\n",
            "    accuracy                           0.96        28\n",
            "   macro avg       0.90      0.98      0.93        28\n",
            "weighted avg       0.97      0.96      0.97        28\n",
            "\n",
            "Classification accuracy : 0.9643\n",
            "Classification error : 0.0357\n",
            "Precision : 0.8000\n",
            "True Positive Rate : 1.0000\n",
            "False Positive Rate : 0.0417\n",
            "Specificity : 0.9583\n",
            "Recall or Sensitivity : 1.0000\n"
          ],
          "name": "stdout"
        },
        {
          "output_type": "display_data",
          "data": {
            "image/png": "[encoded data removed]",
            "text/plain": [
              "<Figure size 432x288 with 2 Axes>"
            ]
          },
          "metadata": {
            "tags": [],
            "needs_background": "light"
          }
        }
      ]
    },
    {
      "cell_type": "code",
      "metadata": {
        "id": "Qu0l-lQg6I_K",
        "outputId": "2e657a82-8cf7-4d60-9154-b4f9538cc42d",
        "colab": {
          "base_uri": "https://localhost:8080/",
          "height": 334
        }
      },
      "source": [
        "print (\"\\nArea under the ROC curve: \" +str(roc_auc))\n",
        "roc_curve =plt.figure()\n",
        "plt.plot(fpr,tpr,'-',label='Area Under the Curve (AUC = %0.4f)' % roc_auc)\n",
        "plt.title('ROC curve')\n",
        "plt.xlabel(\"FPR (False Positive Rate)\")\n",
        "plt.ylabel(\"TPR (True Positive Rate)\")\n",
        "plt.legend(loc=\"lower right\")\n",
        "plt.savefig(path+\"ROC.png\")"
      ],
      "execution_count": null,
      "outputs": [
        {
          "output_type": "stream",
          "text": [
            "\n",
            "Area under the ROC curve: 0.8958333333333333\n"
          ],
          "name": "stdout"
        },
        {
          "output_type": "display_data",
          "data": {
            "image/png": "[encoded data removed]",
            "text/plain": [
              "<Figure size 432x288 with 1 Axes>"
            ]
          },
          "metadata": {
            "tags": [],
            "needs_background": "light"
          }
        }
      ]
    },
    {
      "cell_type": "code",
      "metadata": {
        "id": "-tOYnymj3WgL"
      },
      "source": [
        ""
      ],
      "execution_count": null,
      "outputs": []
    },
    {
      "cell_type": "code",
      "metadata": {
        "id": "5QW4rQ9b3WrE"
      },
      "source": [
        ""
      ],
      "execution_count": null,
      "outputs": []
    },
    {
      "cell_type": "code",
      "metadata": {
        "id": "Ju-yZBxO3W44"
      },
      "source": [
        ""
      ],
      "execution_count": null,
      "outputs": []
    },
    {
      "cell_type": "code",
      "metadata": {
        "id": "yNyc73nv3W2k"
      },
      "source": [
        ""
      ],
      "execution_count": null,
      "outputs": []
    },
    {
      "cell_type": "code",
      "metadata": {
        "id": "hjBEB2hs3W0j"
      },
      "source": [
        ""
      ],
      "execution_count": null,
      "outputs": []
    },
    {
      "cell_type": "code",
      "metadata": {
        "id": "jhGVYtiK3WxU"
      },
      "source": [
        ""
      ],
      "execution_count": null,
      "outputs": []
    },
    {
      "cell_type": "code",
      "metadata": {
        "id": "oaUaPDru3Wof"
      },
      "source": [
        ""
      ],
      "execution_count": null,
      "outputs": []
    },
    {
      "cell_type": "code",
      "metadata": {
        "id": "hkc-2C2F3Wl5"
      },
      "source": [
        ""
      ],
      "execution_count": null,
      "outputs": []
    },
    {
      "cell_type": "code",
      "metadata": {
        "id": "uf0Gslv03Wcp"
      },
      "source": [
        ""
      ],
      "execution_count": null,
      "outputs": []
    },
    {
      "cell_type": "code",
      "metadata": {
        "id": "l_SsOzjg3WYh"
      },
      "source": [
        ""
      ],
      "execution_count": null,
      "outputs": []
    }
  ]
}